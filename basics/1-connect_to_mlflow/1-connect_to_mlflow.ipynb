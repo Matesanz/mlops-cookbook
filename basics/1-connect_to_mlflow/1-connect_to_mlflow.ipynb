{
 "cells": [
  {
   "cell_type": "markdown",
   "metadata": {},
   "source": [
    "# Connect to MLFlow Server\n",
    "\n",
    "First we need to understand that mlflow runs in a server (like if it were another computer). Then we need to know the \"adress\" of that computer, think of it as if it where the adress of your house. This adress is known as the `tracking URI`. To set it up we have two ways:\n",
    "\n",
    "- Option 1 👉 Set the `MLFLOW_TRACKING_URI` environment variable.\n",
    "- Option 2 👉 Especify the tracking URI at the beggining of our code\n",
    "\n",
    "![mlflow_schema](../assets/mlflow_schema.jpg)"
   ]
  },
  {
   "cell_type": "code",
   "execution_count": 1,
   "metadata": {},
   "outputs": [
    {
     "name": "stdout",
     "output_type": "stream",
     "text": [
      "✅ Successfully connected to the MLflow server\n"
     ]
    }
   ],
   "source": [
    "import mlflow\n",
    "\n",
    "\n",
    "MLFLOW_TRACKING_URI = \"http://mlflow:5000\"\n",
    "\n",
    "\n",
    "# Connect to the MLflow server\n",
    "mlflow.set_tracking_uri(MLFLOW_TRACKING_URI)  # here we use Option 2\n",
    "\n",
    "\n",
    "# test the connection\n",
    "try:\n",
    "    mlflow.search_experiments()\n",
    "    print(\"✅ Successfully connected to the MLflow server\")\n",
    "except Exception as e:\n",
    "    print(\"❌ Failed to connect to the MLflow server\")"
   ]
  }
 ],
 "metadata": {
  "kernelspec": {
   "display_name": "Python 3",
   "language": "python",
   "name": "python3"
  },
  "language_info": {
   "codemirror_mode": {
    "name": "ipython",
    "version": 3
   },
   "file_extension": ".py",
   "mimetype": "text/x-python",
   "name": "python",
   "nbconvert_exporter": "python",
   "pygments_lexer": "ipython3",
   "version": "3.11.6"
  }
 },
 "nbformat": 4,
 "nbformat_minor": 2
}
