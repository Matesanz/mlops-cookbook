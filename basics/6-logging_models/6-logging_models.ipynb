{
 "cells": [
  {
   "cell_type": "markdown",
   "metadata": {},
   "source": [
    "# Log Models"
   ]
  },
  {
   "cell_type": "markdown",
   "metadata": {},
   "source": [
    "**Model logging** in MLflow refers to the practice of **saving and tracking machine learning models** during the development and experimentation process. When we log a model in MLflow, **we save the model as an artifact in a centralized repository**, allowing us to easily access and manage different versions of the model.\n",
    "\n",
    "![mlflow_frontend](/assets/mlflow_frontend.jpg)\n",
    "\n",
    "\n",
    "Model logging is important in MLflow for several reasons.\n",
    "\n",
    "- **Reproducibility**: Logging models ensures that we can reproduce our experiments later on. By storing the exact version of the model used during training, we can accurately reproduce the same results or compare different model iterations.\n",
    "\n",
    "- **Collaboration**: MLflow allows teams to collaborate effectively by sharing models. By logging models, team members can easily access and deploy specific versions of the model, making it simpler to work together on projects.\n",
    "\n",
    "- **Tracking**: Model logging helps in tracking the development and progress of the model. It allows us to keep a record of the model's performance, metrics, and associated metadata, making it easier to analyze and compare different iterations or approaches.\n",
    "\n",
    "When logging a model we **specify the library used to create the model** `model.<library>.log_model()`. Specifying the library used to create the model when logging helps ensure compatibility and consistency. Different machine learning libraries may have their own formats and conventions for storing models. By specifying the library used, MLflow can appropriately handle the model serialization and deserialization process, ensuring that the logged model can be loaded correctly when it is later accessed or deployed.\n",
    "\n",
    "In summary, **model logging in MLflow involves saving and tracking machine learning models,** providing benefits such as reproducibility, collaboration, and progress tracking. Specifying the library used to create the model ensures compatibility and consistency when storing and retrieving the models."
   ]
  },
  {
   "cell_type": "markdown",
   "metadata": {},
   "source": [
    "## ✨ Create a simple Model\n",
    "\n",
    "A simple linear regression model trained on random data."
   ]
  },
  {
   "cell_type": "code",
   "execution_count": 5,
   "metadata": {},
   "outputs": [],
   "source": [
    "import numpy as np\n",
    "from sklearn.linear_model import LinearRegression\n",
    "\n",
    "# Mocked data\n",
    "X = np.random.rand(100, 1)  # Independent variable\n",
    "y = 2 * X + np.random.randn(100, 1)  # Dependent variable with some noise\n",
    "\n",
    "# Create and fit the linear regression model\n",
    "model = LinearRegression()\n",
    "_ = model.fit(X, y)"
   ]
  },
  {
   "cell_type": "markdown",
   "metadata": {},
   "source": [
    "### 💾 Log the model"
   ]
  },
  {
   "cell_type": "code",
   "execution_count": null,
   "metadata": {},
   "outputs": [],
   "source": [
    "import mlflow\n",
    "\n",
    "\n",
    "EXPERIMENT_NAME = \"mlflow-demo\"  #  ❗ make sure this experiment exists\n",
    "RUN_NAME = \"run-with-model\"\n",
    "\n",
    "\n",
    "experiment_id = mlflow.get_experiment_by_name(EXPERIMENT_NAME).experiment_id\n",
    "\n",
    "\n",
    "with mlflow.start_run(\n",
    "    experiment_id=experiment_id,\n",
    "    run_name=RUN_NAME,\n",
    ") as run:\n",
    "    \n",
    "    # log the confusion matrix as an artifact\n",
    "    mlflow.sklearn.log_model(model, \"linear_regression_model\")  # 👈 we tell mlflow is a sklearn model\n",
    "    mlflow.set_tags({\"model\": \"linear-regression\"})\n",
    "\n",
    "    # Print the run ID\n",
    "    print(f\"Run ID: {run.info.run_id}\")"
   ]
  }
 ],
 "metadata": {
  "kernelspec": {
   "display_name": "Python 3",
   "language": "python",
   "name": "python3"
  },
  "language_info": {
   "codemirror_mode": {
    "name": "ipython",
    "version": 3
   },
   "file_extension": ".py",
   "mimetype": "text/x-python",
   "name": "python",
   "nbconvert_exporter": "python",
   "pygments_lexer": "ipython3",
   "version": "3.11.6"
  },
  "orig_nbformat": 4
 },
 "nbformat": 4,
 "nbformat_minor": 2
}
