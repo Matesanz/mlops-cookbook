{
 "cells": [
  {
   "cell_type": "markdown",
   "metadata": {},
   "source": [
    "# Create a Run\n",
    "\n",
    "In the context of MLflow, a \"run\" refers to a **specific instance of an experiment**. You can think of a \"run\" as a unique execution of an experiment, where specific configurations are applied, a model is trained with particular data, and results are recorded.\n",
    "\n",
    "![mlflow_frontend](assets/mlflow_frontend.jpg)\n",
    "\n",
    "Following the example of the house price prediction model, a \"run\" would be a concrete execution of an experiment. Every time you perform a test, adjust parameters, or use a specific dataset within your MLflow experiment, you are creating a new \"run\" within that experiment. Each \"run\" keeps a detailed record of how parameters were configured, which data was used, and what results were obtained in that particular execution.\n",
    "\n",
    "The ability to track and compare multiple \"runs\" within the same experiment is valuable because it allows you to explore different approaches and settings, record the details of each attempt, and determine which one is the most effective based on performance metrics and results. In summary, a \"run\" in MLflow is an individual instance of an experiment that helps you keep an accurate track of your tests and progress in your machine learning project."
   ]
  },
  {
   "cell_type": "code",
   "execution_count": 1,
   "metadata": {},
   "outputs": [
    {
     "name": "stdout",
     "output_type": "stream",
     "text": [
      "🎉 Run ID: 15eabef1162a403fa63ceb568f6f6ec7\n"
     ]
    }
   ],
   "source": [
    "import mlflow\n",
    "\n",
    "\n",
    "EXPERIMENT_NAME = \"mlflow-demo\"  #  ❗ make sure this experiment exists\n",
    "RUN_NAME = \"run-empty\"\n",
    "\n",
    "\n",
    "# Get the experiment ID\n",
    "experiment_id = mlflow.get_experiment_by_name(EXPERIMENT_NAME).experiment_id\n",
    "\n",
    "# Start a run\n",
    "with mlflow.start_run(\n",
    "    experiment_id=experiment_id,\n",
    "    run_name=RUN_NAME,  \n",
    ") as run:\n",
    "    \n",
    "    # Print the run ID\n",
    "    print(f\"🎉 Run ID: {run.info.run_id}\")"
   ]
  }
 ],
 "metadata": {
  "kernelspec": {
   "display_name": "Python 3",
   "language": "python",
   "name": "python3"
  },
  "language_info": {
   "codemirror_mode": {
    "name": "ipython",
    "version": 3
   },
   "file_extension": ".py",
   "mimetype": "text/x-python",
   "name": "python",
   "nbconvert_exporter": "python",
   "pygments_lexer": "ipython3",
   "version": "3.11.6"
  },
  "orig_nbformat": 4,
  "vscode": {
   "interpreter": {
    "hash": "949777d72b0d2535278d3dc13498b2535136f6dfe0678499012e853ee9abcab1"
   }
  }
 },
 "nbformat": 4,
 "nbformat_minor": 2
}
