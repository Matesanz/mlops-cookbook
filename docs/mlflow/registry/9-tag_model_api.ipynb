{
 "cells": [
  {
   "cell_type": "markdown",
   "metadata": {},
   "source": [
    "# Tag a Model using the API\n",
    "\n",
    "Give an alias to a model using the API is the same as doing it manually but using python code. This is usefull if you want to automate the process of tagging models."
   ]
  },
  {
   "cell_type": "code",
   "execution_count": 2,
   "metadata": {},
   "outputs": [
    {
     "name": "stdout",
     "output_type": "stream",
     "text": [
      "Production\n"
     ]
    }
   ],
   "source": [
    "import mlflow\n",
    "\n",
    "\n",
    "MODEL_NAME = \"\"  # insert the name of your model (make sure the model is registered)\n",
    "MODEL_VERSION = 1  # change to the model version you want to tag: 1, 2, 3, etc.\n",
    "MODEL_STAGE = \"\"  # insert the Alias\n",
    "\n",
    "\n",
    "# stage model\n",
    "client = mlflow.MlflowClient()\n",
    "info = client.transition_model_version_stage(\n",
    "    name=MODEL_NAME,\n",
    "    version=MODEL_VERSION,\n",
    "    stage=MODEL_STAGE\n",
    ")\n",
    "\n",
    "# check current stage\n",
    "print(info.current_stage)"
   ]
  }
 ],
 "metadata": {
  "kernelspec": {
   "display_name": "Python 3",
   "language": "python",
   "name": "python3"
  },
  "language_info": {
   "codemirror_mode": {
    "name": "ipython",
    "version": 3
   },
   "file_extension": ".py",
   "mimetype": "text/x-python",
   "name": "python",
   "nbconvert_exporter": "python",
   "pygments_lexer": "ipython3",
   "version": "3.11.6"
  },
  "orig_nbformat": 4
 },
 "nbformat": 4,
 "nbformat_minor": 2
}
