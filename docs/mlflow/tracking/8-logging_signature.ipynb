{
 "cells": [
  {
   "cell_type": "markdown",
   "metadata": {},
   "source": [
    "# Logging Model Signature\n",
    "\n",
    "Another important part of logging a model is to log it's signature. ¿What is a model signature? **A model signature is a description of the input and output of the model**. This is important because it allows us to know what kind of data the model expects and what kind of data it will return.\n",
    "\n",
    "![signature_schema](https://mlflow.org/docs/latest/_images/signature-vs-no-signature.png)\n",
    "\n",
    "Imagine the input of the model is a 2D array of shape (n_samples, n_features) and the output is a 1D array of shape (n_samples). The signature of this model would be:"
   ]
  },
  {
   "cell_type": "code",
   "execution_count": 1,
   "metadata": {},
   "outputs": [],
   "source": [
    "import numpy as np\n",
    "\n",
    "\n",
    "inputs = np.random.randn(1, 100)  # 1 sample of 100 features\n",
    "outputs = np.random.randn(1, )  # 1 sample"
   ]
  },
  {
   "cell_type": "markdown",
   "metadata": {},
   "source": [
    "We generate the signature of the model using the `infer_signature` function from the `mlflow.models.signature` module. This function receives two parameters, the input and the output of the model. The input and output of the model are represented as a pandas DataFrame. The `infer_signature` function will return a string with the signature of the model."
   ]
  },
  {
   "cell_type": "code",
   "execution_count": 2,
   "metadata": {},
   "outputs": [],
   "source": [
    "from mlflow.models import infer_signature\n",
    "\n",
    "\n",
    "signature = infer_signature(model_input=inputs, model_output=outputs)"
   ]
  },
  {
   "cell_type": "markdown",
   "metadata": {},
   "source": [
    "We can log the model signature along with the model using the `log_model` function."
   ]
  },
  {
   "cell_type": "code",
   "execution_count": 3,
   "metadata": {},
   "outputs": [],
   "source": [
    "from sklearn.linear_model import LinearRegression\n",
    "import mlflow\n",
    "\n",
    "\n",
    "model = LinearRegression()\n",
    "\n",
    "\n",
    "with mlflow.start_run():\n",
    "\n",
    "    # signature is logged along with the model\n",
    "    mlflow.sklearn.log_model(model, \"model\", signature=signature)"
   ]
  }
 ],
 "metadata": {
  "kernelspec": {
   "display_name": "mlops-cookbook",
   "language": "python",
   "name": "python3"
  },
  "language_info": {
   "codemirror_mode": {
    "name": "ipython",
    "version": 3
   },
   "file_extension": ".py",
   "mimetype": "text/x-python",
   "name": "python",
   "nbconvert_exporter": "python",
   "pygments_lexer": "ipython3",
   "version": "3.11.5"
  }
 },
 "nbformat": 4,
 "nbformat_minor": 2
}
