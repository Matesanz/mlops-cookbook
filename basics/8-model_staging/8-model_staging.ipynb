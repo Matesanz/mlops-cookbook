{
 "cells": [
  {
   "cell_type": "markdown",
   "metadata": {},
   "source": [
    "# Model Staging\n",
    "\n",
    "Once a model is registered (we have a new version of it: 1, 2, 3...) we can transition it from development to production. This means that we can tell MLflow that we want to use a specific version of the model for production. This way we can keep developing new versions of the model and testing them, while the production version is still being used by the API."
   ]
  },
  {
   "cell_type": "markdown",
   "metadata": {},
   "source": [
    "## 🏷️ Select a specific version for production"
   ]
  },
  {
   "cell_type": "code",
   "execution_count": 2,
   "metadata": {},
   "outputs": [
    {
     "name": "stdout",
     "output_type": "stream",
     "text": [
      "Production\n"
     ]
    }
   ],
   "source": [
    "import mlflow\n",
    "\n",
    "\n",
    "MODEL_NAME = \"demo-linear-regression\"  # ❗ make sure this model exists\n",
    "MODEL_VERSION = 1  # change this to the version of your model\n",
    "MODEL_STAGE = \"Production\"  # model will promote to this stage\n",
    "\n",
    "\n",
    "# stage model\n",
    "client = mlflow.MlflowClient()\n",
    "info = client.transition_model_version_stage(\n",
    "    name=MODEL_NAME,\n",
    "    version=MODEL_VERSION,\n",
    "    stage=MODEL_STAGE\n",
    ")\n",
    "\n",
    "# check current stage\n",
    "print(info.current_stage)"
   ]
  }
 ],
 "metadata": {
  "kernelspec": {
   "display_name": "Python 3",
   "language": "python",
   "name": "python3"
  },
  "language_info": {
   "codemirror_mode": {
    "name": "ipython",
    "version": 3
   },
   "file_extension": ".py",
   "mimetype": "text/x-python",
   "name": "python",
   "nbconvert_exporter": "python",
   "pygments_lexer": "ipython3",
   "version": "3.11.6"
  },
  "orig_nbformat": 4
 },
 "nbformat": 4,
 "nbformat_minor": 2
}
