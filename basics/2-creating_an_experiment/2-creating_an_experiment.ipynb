{
 "cells": [
  {
   "attachments": {},
   "cell_type": "markdown",
   "metadata": {},
   "source": [
    "# Create an Experiment"
   ]
  },
  {
   "cell_type": "markdown",
   "metadata": {},
   "source": [
    "An \"experiment\" in MLflow is **like a specific chapter in your research book**. It's an organized set of steps and records that detail how you've tested a particular approach in your machine learning project. Each experiment in MLflow includes the code you've used, the configured parameters, the input data, the results obtained, and any additional notes you want to add.\n",
    "\n",
    "![mlflow_frontend](../../assets/mlflow_frontend.jpg)\n",
    "\n",
    "For example, if you are developing a model to predict house prices, an experiment in MLflow might involve training the model with a specific dataset, adjusting parameters like the number of trees in a random forest model, recording performance metrics like mean squared error (MSE), and making notes about any significant observations. Every time you try a different set of parameters or data, or even change the algorithm, you can create a new experiment in MLflow to maintain a clear record of your research and results. This makes it easier to track your progress and make informed decisions in your machine learning project."
   ]
  },
  {
   "cell_type": "markdown",
   "metadata": {},
   "source": [
    "## Create an Experiment\n",
    "\n",
    "Creating an experiment in MLflow is simple. You just need to provide a name for the experiment, and MLflow will take care of the rest. If you want to create a new experiment, you can use the `mlflow.create_experiment` function. This function will create a new experiment with the specified name and return its ID. If an experiment with the same name already exists, it will raise an exception."
   ]
  },
  {
   "cell_type": "code",
   "execution_count": 3,
   "metadata": {},
   "outputs": [],
   "source": [
    "import mlflow\n",
    "\n",
    "\n",
    "EXPERIMENT_NAME = \"mlflow-demo\"  # change this to your experiment name\n",
    "\n",
    "\n",
    "# Create an experiment\n",
    "experiment_id = mlflow.create_experiment(EXPERIMENT_NAME)"
   ]
  },
  {
   "cell_type": "markdown",
   "metadata": {},
   "source": [
    "## Get an existing experiment\n",
    "\n",
    "It is possible to get an existing experiment by using the `get_experiment_by_name` method. If the experiment does not exist, it will return `None`."
   ]
  },
  {
   "cell_type": "code",
   "execution_count": 4,
   "metadata": {},
   "outputs": [],
   "source": [
    "experiment = mlflow.get_experiment_by_name(EXPERIMENT_NAME)"
   ]
  },
  {
   "cell_type": "markdown",
   "metadata": {},
   "source": [
    "We can see the details of the experiment by printing some of its attributes."
   ]
  },
  {
   "cell_type": "code",
   "execution_count": 5,
   "metadata": {},
   "outputs": [
    {
     "name": "stdout",
     "output_type": "stream",
     "text": [
      "Name: mlflow-demo\n",
      "Experiment_id: 133178755694431312\n",
      "Artifact Location: mlflow-artifacts:/133178755694431312\n",
      "Tags: {}\n",
      "Lifecycle_stage: active\n"
     ]
    }
   ],
   "source": [
    "print(f\"Name: {experiment.name}\")\n",
    "print(f\"Experiment_id: {experiment.experiment_id}\")\n",
    "print(f\"Artifact Location: {experiment.artifact_location}\")\n",
    "print(f\"Tags: {experiment.tags}\")\n",
    "print(f\"Lifecycle_stage: {experiment.lifecycle_stage}\")"
   ]
  }
 ],
 "metadata": {
  "kernelspec": {
   "display_name": "Python 3",
   "language": "python",
   "name": "python3"
  },
  "language_info": {
   "codemirror_mode": {
    "name": "ipython",
    "version": 3
   },
   "file_extension": ".py",
   "mimetype": "text/x-python",
   "name": "python",
   "nbconvert_exporter": "python",
   "pygments_lexer": "ipython3",
   "version": "3.11.5"
  },
  "orig_nbformat": 4,
  "vscode": {
   "interpreter": {
    "hash": "949777d72b0d2535278d3dc13498b2535136f6dfe0678499012e853ee9abcab1"
   }
  }
 },
 "nbformat": 4,
 "nbformat_minor": 2
}
