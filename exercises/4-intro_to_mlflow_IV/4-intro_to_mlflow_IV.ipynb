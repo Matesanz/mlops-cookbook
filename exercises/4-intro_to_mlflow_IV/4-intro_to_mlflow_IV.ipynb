{
 "cells": [
  {
   "cell_type": "markdown",
   "metadata": {},
   "source": [
    "# Exercise: Call a Model API\n",
    "\n",
    "In this exercise, you will call a MLFlow model API to make predictions on a dataset."
   ]
  },
  {
   "cell_type": "markdown",
   "metadata": {},
   "source": [
    "## 1. Deploy a Model\n",
    "\n",
    "Remember we first need to deploy the model to be able to call it.\n",
    "\n",
    "1. First, you need to connect the terminal to the MLFlow Server by setting the `MLFLOW_TRACKING_URI` environment variable. \n",
    "\n",
    "```bash\n",
    "export MLFLOW_TRACKING_URI=http://localhost:5000\n",
    "```\n",
    "\n",
    "2. Then, you can deploy the model using the `mlflow models serve` command **in your terminal**:\n",
    "\n",
    "```bash\n",
    "mlflow models serve --model-uri models:/<>/<model_version> --port 5001 --env-manager conda\n",
    "```\n",
    "\n",
    "Where `<model_name>` is the name of the model and `<model_version>` is the version of the model you want to deploy. You can find the name and version of the model in the MLFlow UI. Also the `--port` argument is the port where the server will be running. It's important to choose a port different than the `5000` port where the MLFlow server is running. The `--env-manager` argument is the environment manager that MLFlow will use to run the model. In this case, we are using `conda` but you can use `pip` or `docker` as well."
   ]
  },
  {
   "cell_type": "markdown",
   "metadata": {},
   "source": [
    "## 2. Get some data to make predictions.\n",
    " \n",
    "You can use the following code to get some data from the `california_housing` dataset:"
   ]
  },
  {
   "cell_type": "code",
   "execution_count": 1,
   "metadata": {},
   "outputs": [],
   "source": [
    "from sklearn import datasets\n",
    "\n",
    "\n",
    "# Download dataset and convert to pandas dataframe\n",
    "housing_dataset = datasets.fetch_california_housing(as_frame=True)\n",
    "X = housing_dataset.data"
   ]
  },
  {
   "cell_type": "markdown",
   "metadata": {},
   "source": [
    "## 3. Split the data to get the test set\n",
    "\n",
    "💡 Just as an example we can use the test set to make predictions. We can use the [`train_test_split` function](https://scikit-learn.org/stable/modules/generated/sklearn.model_selection.train_test_split.html) from `sklearn.model_selection` to do this. We should store the split into `X_train`, `y_train`, `X_test`, `y_test`."
   ]
  },
  {
   "cell_type": "code",
   "execution_count": 2,
   "metadata": {},
   "outputs": [],
   "source": [
    "from sklearn.model_selection import train_test_split\n",
    "\n",
    "\n",
    "RANDOM_STATE = 42\n",
    "TEST_SIZE = 0.2\n",
    "\n",
    "# 👇 write the code here"
   ]
  },
  {
   "cell_type": "markdown",
   "metadata": {},
   "source": [
    "## 4. Prepare the data to be sent\n",
    "\n",
    "We need to prepare the data to be sent to the model API.\n",
    "\n",
    "- 👉 Create the **headers**\n",
    "- 👉 Create the **body**"
   ]
  },
  {
   "cell_type": "code",
   "execution_count": null,
   "metadata": {},
   "outputs": [],
   "source": [
    "# 👇 write the code here\n"
   ]
  },
  {
   "cell_type": "markdown",
   "metadata": {},
   "source": [
    "## 5. Convert the data to JSON\n",
    "\n",
    "We need to convert the data to JSON to be able to send it to the model API. You can use the `json.dumps` function from the `json` module to do this."
   ]
  },
  {
   "cell_type": "code",
   "execution_count": 3,
   "metadata": {},
   "outputs": [],
   "source": [
    "import json\n",
    "\n",
    "# 👇 write the code here\n"
   ]
  },
  {
   "cell_type": "markdown",
   "metadata": {},
   "source": [
    "## 6. Send the request\n",
    "\n",
    "You can use the `requests` library to send the request to the model API. You can use the `requests.post` function to do this."
   ]
  },
  {
   "cell_type": "code",
   "execution_count": null,
   "metadata": {},
   "outputs": [],
   "source": [
    "import requests\n",
    "\n",
    "# 👇 write the code here\n"
   ]
  },
  {
   "cell_type": "markdown",
   "metadata": {},
   "source": [
    "## 7. Show the Response\n",
    "\n",
    "You can use the `response.json()` method to show the response from the model API. Also check the `response.status_code` to see if the request was successful."
   ]
  },
  {
   "cell_type": "code",
   "execution_count": null,
   "metadata": {},
   "outputs": [],
   "source": [
    "# 👇 write the code here\n"
   ]
  }
 ],
 "metadata": {
  "kernelspec": {
   "display_name": "mlops-course",
   "language": "python",
   "name": "python3"
  },
  "language_info": {
   "name": "python",
   "version": "3.11.5"
  }
 },
 "nbformat": 4,
 "nbformat_minor": 2
}
