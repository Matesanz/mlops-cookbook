{
 "cells": [
  {
   "cell_type": "markdown",
   "metadata": {},
   "source": [
    "# ✍️ Exercise: Intro to MLFlow - Part I\n",
    "\n",
    "In this exercise, we will cover the basics of MLFlow. MLFlow is an open-source platform for the complete machine learning lifecycle. It is designed to work with any machine learning library and to be agnostic to the execution environment. It is also designed to be scalable and to support the complete machine learning lifecycle, including experimentation, reproducibility, and deployment.\n",
    "\n",
    "In this first part, we will cover the following topics:\n",
    "- How to Install MLFlow.\n",
    "- How to launch the MLFlow Server.\n",
    "- How to create a new MLFlow Experiment.\n",
    "- How to create a new MLFlow Run.\n",
    "- How to log parameters, metrics, and artifacts."
   ]
  },
  {
   "cell_type": "markdown",
   "metadata": {},
   "source": [
    "## How to Install MLFlow\n",
    "\n",
    "💡 Remember: We can simply install MLFlow **using pip** 🎉\n",
    "\n",
    "```bash\n",
    "pip install mlflow\n",
    "```\n",
    "\n",
    "## How to launch the MLFlow Server\n",
    "\n",
    "💡 Remember: After installing MLFlow, we can launch the MLFlow server using the following command **in the terminal**:\n",
    "\n",
    "```bash\n",
    "mlflow ui\n",
    "```\n",
    "\n",
    "You will see the following output:\n",
    "\n",
    "```bash\n",
    "[2024-02-21 23:29:52 +0100] [725738] [INFO] Starting gunicorn 21.2.0\n",
    "[2024-02-21 23:29:52 +0100] [725738] [INFO] Listening at: http://127.0.0.1:5000 (725738)\n",
    "[2024-02-21 23:29:52 +0100] [725738] [INFO] Using worker: sync\n",
    "[2024-02-21 23:29:52 +0100] [725739] [INFO] Booting worker with pid: 725739\n",
    "[2024-02-21 23:29:52 +0100] [725740] [INFO] Booting worker with pid: 725740\n",
    "[2024-02-21 23:29:53 +0100] [725741] [INFO] Booting worker with pid: 725741\n",
    "```\n",
    "\n",
    "👉 Then, we can **access the MLFlow UI by opening the following URL in a web browser**: http://localhost:5000.\n"
   ]
  },
  {
   "cell_type": "markdown",
   "metadata": {},
   "source": [
    "## Exercise I: Connecting to the MLFlow Server\n",
    "\n",
    "1. 👉 Connect to MLFlow using `mlflow.set_tracking_uri()` and set the URI to `http://localhost:5000`.\n",
    "2. 👉 Use `mlflow.search_experiments()` to list all the experiments."
   ]
  },
  {
   "cell_type": "code",
   "execution_count": null,
   "metadata": {},
   "outputs": [],
   "source": []
  },
  {
   "cell_type": "markdown",
   "metadata": {},
   "source": [
    "## Exercise II: Creating a New MLFlow Experiment\n",
    "\n",
    "1. 👉 Create a new MLFlow Experiment using `mlflow.create_experiment()` and set the name to `intro-to-mlflow`.\n",
    "2. 👉 Check if the experiment was created by using `mlflow.get_experiment_by_name()`.\n",
    "3. 👉 Print the experiment ID."
   ]
  },
  {
   "cell_type": "code",
   "execution_count": null,
   "metadata": {},
   "outputs": [],
   "source": []
  },
  {
   "cell_type": "markdown",
   "metadata": {},
   "source": [
    "## Exercise III: Creating a New MLFlow Run\n",
    "\n",
    "1. 👉 Create a new MLFlow Run using `mlflow.start_run()` and set the experiment_id to the ID of the `intro-to-mlflow` experiment.\n",
    "2. 👉 Check if the run was created by using `run.info.run_id`.\n",
    "3. 👉 Print the run_id."
   ]
  },
  {
   "cell_type": "code",
   "execution_count": null,
   "metadata": {},
   "outputs": [],
   "source": []
  },
  {
   "cell_type": "markdown",
   "metadata": {},
   "source": [
    "## Exercise IV: Logging Tags, Parameters and Metrics\n",
    "\n",
    "Imagine you have the following information about the run:\n",
    "\n",
    "- model_type: \"RandomForest\"\n",
    "- accuracy: 0.85\n",
    "- max_depth: 10\n",
    "- precision: 0.90\n",
    "- learning_rate: 0.01\n",
    "- recall: 0.80\n",
    "\n",
    "1. 👉 Think. What should you log as a tag, parameter, and metric?\n",
    "2. 👉 Create a new MLFlow Run using `mlflow.start_run()` and set the experiment_id to the ID of the `intro-to-mlflow` experiment.\n",
    "3. 👉 Log the tags using `mlflow.set_tags()`.\n",
    "4. 👉 Log the parameters using `mlflow.log_param()`.\n",
    "5. 👉 Log the metrics using `mlflow.log_metric()`."
   ]
  },
  {
   "cell_type": "code",
   "execution_count": null,
   "metadata": {},
   "outputs": [],
   "source": []
  }
 ],
 "metadata": {
  "kernelspec": {
   "display_name": "mlops-course",
   "language": "python",
   "name": "python3"
  },
  "language_info": {
   "name": "python",
   "version": "3.11.5"
  }
 },
 "nbformat": 4,
 "nbformat_minor": 2
}
