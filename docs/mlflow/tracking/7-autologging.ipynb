{
 "cells": [
  {
   "cell_type": "markdown",
   "metadata": {},
   "source": [
    "# Autologging\n",
    "\n",
    "Autologging is a really cool MLFlow feature that allows you to **automatically log metrics, parameters, and artifacts** from your machine learning experiments. It simplifies the process of tracking your experiments and makes it easier to compare different runs.\n",
    "\n",
    "To use autologging, you just need to call `mlflow.autolog()` at the beginning of your script. This will automatically log all the metrics, parameters, and artifacts that are generated during the execution of your script."
   ]
  },
  {
   "cell_type": "code",
   "execution_count": 1,
   "metadata": {},
   "outputs": [],
   "source": [
    "import mlflow\n",
    "\n",
    "\n",
    "mlflow.autolog()"
   ]
  }
 ],
 "metadata": {
  "kernelspec": {
   "display_name": "mlops-cookbook",
   "language": "python",
   "name": "python3"
  },
  "language_info": {
   "codemirror_mode": {
    "name": "ipython",
    "version": 3
   },
   "file_extension": ".py",
   "mimetype": "text/x-python",
   "name": "python",
   "nbconvert_exporter": "python",
   "pygments_lexer": "ipython3",
   "version": "3.11.5"
  }
 },
 "nbformat": 4,
 "nbformat_minor": 2
}
