{
 "cells": [
  {
   "cell_type": "markdown",
   "metadata": {},
   "source": [
    "# ✍️ Exercise: Intro to MLFlow - Part II\n",
    "\n",
    "Once we've learned how to log metrics, parameters, and artifacts, we can use MLFlow to track our experiments and compare different models. In this exercise, we'll use some fake data to train a linear regression model. We'll then use MLFlow to track the performance of the model and some relevant information about the training process.\n",
    "\n",
    "In this part we will cover the following topics:\n",
    "\n",
    "- Create some Fake Data\n",
    "- Plot the Data using Matplotlib.\n",
    "- Split the data into training and testing sets.\n",
    "- Train a linear regression model.\n",
    "- Compute the accuracy the model.\n",
    "- Log the model using MLFlow.\n",
    "- Log the accuracy of the model using MLFlow.\n",
    "- Log the plotted data using MLFlow.\n",
    "\n",
    "First we need some data to work with. Let's generate some fake data."
   ]
  },
  {
   "cell_type": "code",
   "execution_count": 1,
   "metadata": {},
   "outputs": [],
   "source": [
    "import numpy as np\n",
    "\n",
    "\n",
    "# Mocked data\n",
    "X = np.random.rand(100, 1)  # Independent variable\n",
    "y = 2 * X + np.random.randn(100, 1)  # Dependent variable with some noise"
   ]
  },
  {
   "cell_type": "markdown",
   "metadata": {},
   "source": [
    "## Exercise I: Plot the Data using Matplotlib\n",
    "\n",
    "¿Do you remember how we can plot data using `Matplotlib`? Let's do it! 🚀:\n",
    "\n",
    "1. 👉 We have X (our input) and y (our output). So we can simply plot the data using [`plt.scatter`](https://matplotlib.org/stable/api/_as_gen/matplotlib.pyplot.scatter.html).\n",
    "2. 👉 Then we can save the plot using [`plt.savefig`](https://matplotlib.org/stable/api/_as_gen/matplotlib.pyplot.savefig.html)."
   ]
  },
  {
   "cell_type": "code",
   "execution_count": 4,
   "metadata": {},
   "outputs": [],
   "source": [
    "import matplotlib.pyplot as plt\n",
    "\n",
    "\n",
    "# 👇 Add the relevant code below to plot the data\n",
    "\n",
    "\n",
    "\n"
   ]
  },
  {
   "cell_type": "markdown",
   "metadata": {},
   "source": [
    "## Exercise II: Split the Data into Train and Test Sets\n",
    "\n",
    "💡 Remember that we need to split our data into train and test sets. We can use the [`train_test_split` function](https://scikit-learn.org/stable/modules/generated/sklearn.model_selection.train_test_split.html) from `sklearn.model_selection` to do this. We should store the split into `X_train`, `y_train`, `X_test`, `y_test`."
   ]
  },
  {
   "cell_type": "code",
   "execution_count": null,
   "metadata": {},
   "outputs": [],
   "source": [
    "from sklearn.model_selection import train_test_split\n",
    "\n",
    "# 👇 Add the relevant code below to split the data into training and testing sets\n",
    "\n",
    "\n",
    "\n"
   ]
  },
  {
   "cell_type": "markdown",
   "metadata": {},
   "source": [
    "## Exercise III: Train a Linear Regression Model\n",
    "\n",
    "Then, train a [**linear regression model** using the scikit-learn library](https://scikit-learn.org/stable/modules/generated/sklearn.linear_model.LinearRegression.html).\n",
    "\n",
    "1. 👉 Initialize the model calling the `LinearRegression` class.\n",
    "2. 👉 Train the model using the `fit` method."
   ]
  },
  {
   "cell_type": "code",
   "execution_count": 3,
   "metadata": {},
   "outputs": [],
   "source": [
    "from sklearn.linear_model import LinearRegression\n",
    "\n",
    "# Add code to train the model 👇\n",
    "\n",
    "\n",
    "\n"
   ]
  },
  {
   "cell_type": "markdown",
   "metadata": {},
   "source": [
    "## Exercise IV: Compute the Accuracy of the Model\n",
    "\n",
    "Finally, compute the accuracy of the model using the [`mean_squared_error` function](https://scikit-learn.org/stable/modules/generated/sklearn.metrics.mean_squared_error.html) from the `sklearn.metrics` module.\n",
    "\n",
    "1. 👉 Compute the predictions by passing the `X_test` to the `predict` method of the model.\n",
    "2. 👉 Compute the accuracy using the `mean_squared_error` function and passing the `y_test` and the `predictions` as arguments.\n",
    "3. 👉 Print the accuracy."
   ]
  },
  {
   "cell_type": "code",
   "execution_count": 9,
   "metadata": {},
   "outputs": [],
   "source": [
    "from sklearn.metrics import mean_squared_error\n",
    "\n",
    "# Add code to calculate the mean squared error 👇\n",
    "\n",
    "\n",
    "\n"
   ]
  },
  {
   "cell_type": "markdown",
   "metadata": {},
   "source": [
    "## Exercise V: Create a Run and log the model and metrics.\n",
    "\n",
    "1. 👉 Think. We've computed the mse of the model. ¿Would you log it as a parameter or as a metric?\n",
    "2. 👉 Think. We've created a plot. ¿What kind of data is it? ¿How would you log it?\n",
    "3. 👉 Log the model using the `mlflow.sklearn.log_model` function.\n",
    "4. 👉 Extra: Log the signature of the model."
   ]
  },
  {
   "cell_type": "code",
   "execution_count": null,
   "metadata": {},
   "outputs": [],
   "source": [
    "import mlflow\n",
    "\n",
    "\n",
    "EXPERIMENT_NAME = \"intro-to-mlflow\"\n",
    "\n",
    "\n",
    "experiment = mlflow.get_experiment_by_name(EXPERIMENT_NAME)\n",
    "\n",
    "\n",
    "with mlflow.start_run(\n",
    "    experiment_id=experiment.experiment_id,\n",
    ") as run:\n",
    "    \n",
    "    # Add code to log the model, the mean squared error, and the model parameters 👇\n",
    "\n",
    "    pass"
   ]
  }
 ],
 "metadata": {
  "kernelspec": {
   "display_name": "mlops-course",
   "language": "python",
   "name": "python3"
  },
  "language_info": {
   "codemirror_mode": {
    "name": "ipython",
    "version": 3
   },
   "file_extension": ".py",
   "mimetype": "text/x-python",
   "name": "python",
   "nbconvert_exporter": "python",
   "pygments_lexer": "ipython3",
   "version": "3.11.5"
  }
 },
 "nbformat": 4,
 "nbformat_minor": 2
}
