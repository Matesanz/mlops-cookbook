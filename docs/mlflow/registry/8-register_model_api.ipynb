{
 "cells": [
  {
   "cell_type": "markdown",
   "metadata": {},
   "source": [
    "# Register a Model using the API\n",
    "\n",
    "Registering a model using the API is the **same as doing it manually but using python code**. This is useful when you want to automate the process of registering models."
   ]
  },
  {
   "cell_type": "code",
   "execution_count": null,
   "metadata": {},
   "outputs": [],
   "source": [
    "import mlflow\n",
    "\n",
    "\n",
    "MODEL_NAME = \"\"  # 👈 insert the name that you want for your model\n",
    "RUN_ID = \"\"  # 👈 insert the run id where the model is logged\n",
    "\n",
    "\n",
    "# Models stored in a run follow this convention\n",
    "model_path = f\"runs:/{RUN_ID}/model\"  \n",
    "\n",
    "\n",
    "# register the model\n",
    "result = mlflow.register_model(model_path, MODEL_NAME)\n",
    "print(f\"✅ Registered model version: {result.version}!\")"
   ]
  }
 ],
 "metadata": {
  "kernelspec": {
   "display_name": "mlops-cookbook",
   "language": "python",
   "name": "python3"
  },
  "language_info": {
   "name": "python",
   "version": "3.11.5"
  }
 },
 "nbformat": 4,
 "nbformat_minor": 2
}
