{
 "cells": [
  {
   "cell_type": "markdown",
   "metadata": {},
   "source": [
    "# Log Artifacts"
   ]
  },
  {
   "cell_type": "markdown",
   "metadata": {},
   "source": [
    "**Artifacts** in MLflow are f**iles or data that are important for your machine learning projects**. They can be things like trained models, datasets, images, configuration files, or any other files that are relevant to your project.\n",
    "\n",
    "Artifacts are used in MLflow to track and manage the different versions of these files throughout the machine learning lifecycle. MLflow provides a centralized repository called the artifact store where you can store and retrieve these artifacts. By storing artifacts in MLflow, you can keep track of the exact version of the files used during each step of your machine learning workflow."
   ]
  },
  {
   "cell_type": "markdown",
   "metadata": {},
   "source": [
    "### ✨ Create a simple artifact\n",
    "\n",
    "An image (png) of a confussion Matrix."
   ]
  },
  {
   "cell_type": "code",
   "execution_count": 1,
   "metadata": {},
   "outputs": [
    {
     "data": {
      "image/png": "[encoded data removed]",
      "text/plain": [
       "<Figure size 640x480 with 2 Axes>"
      ]
     },
     "metadata": {},
     "output_type": "display_data"
    }
   ],
   "source": [
    "import numpy as np\n",
    "import seaborn as sns\n",
    "import matplotlib.pyplot as plt\n",
    "\n",
    "# generate a random confusion matrix\n",
    "confusion_matrix = np.array([\n",
    "    [ 9,  1,  0],\n",
    "    [ 1,  9,  0],\n",
    "    [ 0,  0, 10]\n",
    "])\n",
    "\n",
    "# plot the confusion matrix\n",
    "ax = sns.heatmap(confusion_matrix, cmap=\"Blues\")\n",
    "ax.set_xlabel(\"Predicted labels\")\n",
    "ax.set_ylabel(\"True labels\")\n",
    "ax.set_title(\"Confusion Matrix\")\n",
    "\n",
    "# save the confusion matrix to a file\n",
    "plt.savefig(\"confusion_matrix.png\")  # 👈 saving your artifact (remember artifacts are files)"
   ]
  },
  {
   "cell_type": "markdown",
   "metadata": {},
   "source": [
    "### 💾 Log the artifact"
   ]
  },
  {
   "cell_type": "code",
   "execution_count": 2,
   "metadata": {},
   "outputs": [
    {
     "name": "stdout",
     "output_type": "stream",
     "text": [
      "Run ID: 5bce4f5add21457b80655b3b77482b45\n"
     ]
    }
   ],
   "source": [
    "import mlflow\n",
    "\n",
    "\n",
    "EXPERIMENT_NAME = \"mlflow-demo\"  #  ❗ make sure this experiment exists\n",
    "RUN_NAME = \"run-with-model\"\n",
    "\n",
    "\n",
    "experiment_id = mlflow.get_experiment_by_name(EXPERIMENT_NAME).experiment_id\n",
    "\n",
    "\n",
    "with mlflow.start_run(\n",
    "    experiment_id=experiment_id,\n",
    "    run_name=RUN_NAME,\n",
    ") as run:\n",
    "    \n",
    "    # log the confusion matrix as an artifact\n",
    "    mlflow.log_artifact(\"confusion_matrix.png\")  # 👈 logging your artifact\n",
    "\n",
    "    # Print the run ID\n",
    "    print(f\"Run ID: {run.info.run_id}\")"
   ]
  }
 ],
 "metadata": {
  "kernelspec": {
   "display_name": "Python 3",
   "language": "python",
   "name": "python3"
  },
  "language_info": {
   "codemirror_mode": {
    "name": "ipython",
    "version": 3
   },
   "file_extension": ".py",
   "mimetype": "text/x-python",
   "name": "python",
   "nbconvert_exporter": "python",
   "pygments_lexer": "ipython3",
   "version": "3.11.6"
  },
  "orig_nbformat": 4
 },
 "nbformat": 4,
 "nbformat_minor": 2
}
