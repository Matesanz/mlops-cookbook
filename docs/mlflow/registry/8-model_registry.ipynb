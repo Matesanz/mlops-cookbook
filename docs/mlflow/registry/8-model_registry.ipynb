{
 "cells": [
  {
   "attachments": {},
   "cell_type": "markdown",
   "metadata": {},
   "source": [
    "# Model Registry\n",
    "\n",
    "In this notebook, we will see how to **register a model in MLflow**. Registering a model is a way to keep track of the different versions of a model and its metadata. It is also a way to share the model with other people. When a model is registered a **new version is created**. The first version of a model is always version 1.\n"
   ]
  },
  {
   "attachments": {},
   "cell_type": "markdown",
   "metadata": {},
   "source": [
    "## 🔍 Search a Model in a Run\n",
    "\n",
    "We are going to register one of the model. We will use the `search_runs` method to find the run we want to register."
   ]
  },
  {
   "cell_type": "code",
   "execution_count": 14,
   "metadata": {},
   "outputs": [
    {
     "name": "stdout",
     "output_type": "stream",
     "text": [
      "✅ Using run_id 'f1d8e8acaf354ef98561e5d8707161d0'!\n"
     ]
    }
   ],
   "source": [
    "import mlflow\n",
    "\n",
    "\n",
    "EXPERIMENT_NAME = \"mlflow-demo\"  # ❗ make sure this experiment exists\n",
    "\n",
    "\n",
    "# get experiment id\n",
    "experiment = mlflow.get_experiment_by_name(EXPERIMENT_NAME)\n",
    "experiment_id = experiment.experiment_id\n",
    "\n",
    "# get all runs taged with model=linear-regression in this experiment\n",
    "runs = mlflow.search_runs(\n",
    "    experiment_ids=experiment_id,\n",
    "    filter_string=\"tags.model = 'linear-regression'\",\n",
    ")\n",
    "\n",
    "# get the first retrieved run\n",
    "run_id = runs.iloc[0].run_id\n",
    "print(f\"✅ Using run_id '{run_id}'!\")"
   ]
  },
  {
   "cell_type": "markdown",
   "metadata": {},
   "source": [
    "## 🚩 Register the Model"
   ]
  },
  {
   "cell_type": "code",
   "execution_count": 15,
   "metadata": {},
   "outputs": [
    {
     "name": "stderr",
     "output_type": "stream",
     "text": [
      "Registered model 'demo-linear-regression' already exists. Creating a new version of this model...\n",
      "2023/10/17 22:23:02 INFO mlflow.tracking._model_registry.client: Waiting up to 300 seconds for model version to finish creation. Model name: demo-linear-regression, version 4\n"
     ]
    },
    {
     "name": "stdout",
     "output_type": "stream",
     "text": [
      "✅ Registered model version: 4!\n"
     ]
    },
    {
     "name": "stderr",
     "output_type": "stream",
     "text": [
      "Created version '4' of model 'demo-linear-regression'.\n"
     ]
    }
   ],
   "source": [
    "# register the model for this run\n",
    "MODEL_NAME = \"demo-linear-regression\"  # change this to your model name\n",
    "\n",
    "\n",
    "# Compute model path: models stored in a run follow this convention\n",
    "model_path = f\"runs:/{run_id}/model\"  \n",
    "\n",
    "\n",
    "# register the model\n",
    "result = mlflow.register_model(model_path, MODEL_NAME)\n",
    "print(f\"✅ Registered model version: {result.version}!\")"
   ]
  }
 ],
 "metadata": {
  "kernelspec": {
   "display_name": "Python 3",
   "language": "python",
   "name": "python3"
  },
  "language_info": {
   "codemirror_mode": {
    "name": "ipython",
    "version": 3
   },
   "file_extension": ".py",
   "mimetype": "text/x-python",
   "name": "python",
   "nbconvert_exporter": "python",
   "pygments_lexer": "ipython3",
   "version": "3.11.6"
  },
  "orig_nbformat": 4
 },
 "nbformat": 4,
 "nbformat_minor": 2
}
