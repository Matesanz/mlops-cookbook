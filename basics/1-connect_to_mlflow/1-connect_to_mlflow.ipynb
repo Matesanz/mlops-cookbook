{
 "cells": [
  {
   "cell_type": "markdown",
   "metadata": {},
   "source": [
    "# Connect to MLFlow Server\n",
    "\n",
    "First we need to understand that mlflow runs in a server (like if it were another computer). Then we need to know the \"adress\" of that computer, think of it as if it where the adress of your house. This adress is known as the `tracking URI`. To set it up we have two ways:\n",
    "\n",
    "- Option 1 👉 Especify the tracking URI at the beggining of our code (the one below)\n",
    "- Option 2 👉 Set the `MLFLOW_TRACKING_URI` environment variable.\n",
    "\n",
    "![mlflow_schema](../../assets/mlflow_schema.jpg)"
   ]
  },
  {
   "cell_type": "code",
   "execution_count": 10,
   "metadata": {},
   "outputs": [],
   "source": [
    "import mlflow\n",
    "\n",
    "\n",
    "# Default url for MLFlow is \"http://localhost:5000\"\n",
    "MLFLOW_TRACKING_URI = \"http://localhost:5000\" \n",
    "\n",
    "mlflow.set_tracking_uri(MLFLOW_TRACKING_URI)"
   ]
  },
  {
   "cell_type": "markdown",
   "metadata": {},
   "source": [
    "We can check the connection to the server by running the following command:"
   ]
  },
  {
   "cell_type": "code",
   "execution_count": 11,
   "metadata": {},
   "outputs": [],
   "source": [
    "# if not working this will raise an exception\n",
    "experiments = mlflow.search_experiments()"
   ]
  }
 ],
 "metadata": {
  "kernelspec": {
   "display_name": "Python 3",
   "language": "python",
   "name": "python3"
  },
  "language_info": {
   "codemirror_mode": {
    "name": "ipython",
    "version": 3
   },
   "file_extension": ".py",
   "mimetype": "text/x-python",
   "name": "python",
   "nbconvert_exporter": "python",
   "pygments_lexer": "ipython3",
   "version": "3.11.5"
  }
 },
 "nbformat": 4,
 "nbformat_minor": 2
}
